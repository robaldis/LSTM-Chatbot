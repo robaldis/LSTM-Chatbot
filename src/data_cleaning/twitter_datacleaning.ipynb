{
 "cells": [
  {
   "cell_type": "code",
   "execution_count": null,
   "metadata": {},
   "outputs": [],
   "source": [
    "import pandas\n",
    "import numpy as np\n",
    "from io import open\n",
    "import os\n",
    "import csv"
   ]
  },
  {
   "cell_type": "code",
   "execution_count": null,
   "metadata": {},
   "outputs": [],
   "source": [
    "def get_chunk_container():\n",
    "    return pandas.read_csv('assets/twcs/twcs.csv', sep=',',chunksize=1000, dtype={'in_response_to_tweet_id': \"string\", \"response_tweet_id\":\"string\"})\n"
   ]
  },
  {
   "cell_type": "code",
   "execution_count": null,
   "metadata": {},
   "outputs": [],
   "source": [
    "\"\"\"\n",
    "- Get all the responses\n",
    "- find the tweet that the response corisponds to.\n",
    "pairs = {\n",
    "    \"question_id\" : \"response_id\"\n",
    "}\n",
    "\"\"\"\n",
    "chunk_container = get_chunk_container()\n",
    "ID_pairs = dict()\n",
    "\n",
    "for chunk in chunk_container:\n",
    "    rnan = chunk[pandas.notnull(chunk[\"in_response_to_tweet_id\"])]\n",
    "    for index, row in rnan.iterrows():\n",
    "        if row.author_id == \"AppleSupport\":\n",
    "            ID_pairs[row.tweet_id] = row.in_response_to_tweet_id"
   ]
  },
  {
   "cell_type": "code",
   "execution_count": null,
   "metadata": {},
   "outputs": [],
   "source": [
    "def ID_to_tweet(key, value):\n",
    "    chunk_container = get_chunk_container()\n",
    "    response = question = pandas.Series(dtype='string')\n",
    "    for chunk in chunk_container:\n",
    "        if response.empty:\n",
    "            response = chunk.loc[chunk.tweet_id.isin([str(key)])]\n",
    "        if question.empty:\n",
    "            question = chunk.loc[chunk.tweet_id.isin([str(value)])]\n",
    "\n",
    "        if not response.empty and not question.empty:\n",
    "            break # If both tweets have been found\n",
    "    if response.empty or  question.empty:\n",
    "            print(\"No values exist\")\n",
    "            return None\n",
    "    return {question.text.iloc[0], response.text.iloc[0]}"
   ]
  },
  {
   "cell_type": "code",
   "execution_count": null,
   "metadata": {
    "tags": []
   },
   "outputs": [],
   "source": [
    "def saveToFile(pairs, fileDir):\n",
    "    with open(fileDir, \"w\", encoding='utf-8') as outputfile:\n",
    "        writer = csv.writer(outputfile, delimiter='\\t', lineterminator='\\n')\n",
    "        for key, value in pairs.items():\n",
    "            val = ID_to_tweet(key, value)\n",
    "            if val == None:\n",
    "                continue\n",
    "            else:\n",
    "                writer.writerow(val)"
   ]
  },
  {
   "cell_type": "code",
   "execution_count": null,
   "metadata": {},
   "outputs": [],
   "source": [
    "ID_to_tweet(list(ID_pairs.items())[0][0],list(ID_pairs.items())[0][1])"
   ]
  },
  {
   "cell_type": "code",
   "execution_count": null,
   "metadata": {},
   "outputs": [],
   "source": [
    "fileDir = os.path.join('assets', 'AppleSupport.txt')\n",
    "saveToFile(ID_pairs, fileDir)"
   ]
  }
 ],
 "metadata": {
  "kernelspec": {
   "display_name": "Python 3",
   "language": "python",
   "name": "python3"
  },
  "language_info": {
   "codemirror_mode": {
    "name": "ipython",
    "version": 3
   },
   "file_extension": ".py",
   "mimetype": "text/x-python",
   "name": "python",
   "nbconvert_exporter": "python",
   "pygments_lexer": "ipython3",
   "version": "3.8.5-final"
  }
 },
 "nbformat": 4,
 "nbformat_minor": 4
}