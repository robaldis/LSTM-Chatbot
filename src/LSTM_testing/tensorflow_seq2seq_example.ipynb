{
 "cells": [
  {
   "source": [
    "# Imports\n",
    "* tensorflow - createing the model\n",
    "* matplotlib - Visualise the model output\n",
    "* scikit-learn - split the input data\n",
    "\n",
    "* unicodedata -\n",
    "* re - regular expressions cleaning the data\n",
    "* numpy - better arrays\n",
    "* os - \n",
    "* io -\n",
    "* time - track how long each epoch takes"
   ],
   "cell_type": "markdown",
   "metadata": {}
  },
  {
   "cell_type": "code",
   "execution_count": 1,
   "metadata": {
    "colab": {
     "base_uri": "https://localhost:8080/",
     "height": 34
    },
    "executionInfo": {
     "elapsed": 1446,
     "status": "ok",
     "timestamp": 1601929076124,
     "user": {
      "displayName": "Robert Aldis",
      "photoUrl": "https://lh3.googleusercontent.com/a-/AOh14GiLj5OOqyOsmfbKvjUXzdkDJ4aYrm6akcVj69n0GA=s64",
      "userId": "04125055366516302240"
     },
     "user_tz": -60
    },
    "id": "LZr0FfJYF_N_",
    "outputId": "84304032-f7c6-4988-acf5-8331fa16f4ad"
   },
   "outputs": [
    {
     "name": "stdout",
     "output_type": "stream",
     "text": [
      "This is done\n"
     ]
    }
   ],
   "source": [
    "import tensorflow as tf\n",
    "\n",
    "#tf.enable_eager_execution()\n",
    "\n",
    "import matplotlib.pyplot as plt\n",
    "import matplotlib.ticker as ticker\n",
    "from sklearn.model_selection import train_test_split\n",
    "\n",
    "import unicodedata\n",
    "import re\n",
    "import numpy as np\n",
    "import os\n",
    "import io\n",
    "import time\n",
    "\n",
    "print(\"This is done\")"
   ]
  },
  {
   "cell_type": "code",
   "execution_count": 2,
   "metadata": {},
   "outputs": [],
   "source": [
    "# NOTE: note sure if this is needed yet\n",
    "# from tensorflow.compat.v1 import ConfigProto\n",
    "# from tensorflow.compat.v1 import InteractiveSession\n",
    "\n",
    "# config = ConfigProto()\n",
    "# config.gpu_options.allow_growth = True\n",
    "# session = InteractiveSession(config=config)"
   ]
  },
  {
   "source": [
    "# Download the data to train and test\n"
   ],
   "cell_type": "markdown",
   "metadata": {}
  },
  {
   "cell_type": "code",
   "execution_count": 3,
   "metadata": {
    "colab": {
     "base_uri": "https://localhost:8080/",
     "height": 51
    },
    "executionInfo": {
     "elapsed": 2131,
     "status": "ok",
     "timestamp": 1601929076821,
     "user": {
      "displayName": "Robert Aldis",
      "photoUrl": "https://lh3.googleusercontent.com/a-/AOh14GiLj5OOqyOsmfbKvjUXzdkDJ4aYrm6akcVj69n0GA=s64",
      "userId": "04125055366516302240"
     },
     "user_tz": -60
    },
    "id": "8N09E9SNGOgt",
    "outputId": "82b07df4-b8b3-41dd-a8db-4e3861bb13fe"
   },
   "outputs": [],
   "source": [
    "# Download the file\n",
    "path_to_zip = tf.keras.utils.get_file(\n",
    "    'spa-eng.zip', origin='http://storage.googleapis.com/download.tensorflow.org/data/spa-eng.zip',\n",
    "    extract=True)\n",
    "\n",
    "path_to_file = os.path.dirname(path_to_zip)+\"/spa-eng/spa.txt\""
   ]
  },
  {
   "cell_type": "code",
   "execution_count": null,
   "metadata": {},
   "outputs": [],
   "source": []
  },
  {
   "source": [
    "# Data cleaning\n",
    "1. convery unicode to ascii\n",
    "    * normalise the strings with the normal form D (NFD), translating each character into its decomposed form\n",
    "2. Create a space between each word and punctuation\n",
    "3. Replace everything with a space except a-z, A-Z, \".\", \"?\", \"!\", \",\"\n",
    "4. Add the token \"<start>\" and \"<end>\""
   ],
   "cell_type": "markdown",
   "metadata": {}
  },
  {
   "cell_type": "code",
   "execution_count": 4,
   "metadata": {
    "executionInfo": {
     "elapsed": 2128,
     "status": "ok",
     "timestamp": 1601929076823,
     "user": {
      "displayName": "Robert Aldis",
      "photoUrl": "https://lh3.googleusercontent.com/a-/AOh14GiLj5OOqyOsmfbKvjUXzdkDJ4aYrm6akcVj69n0GA=s64",
      "userId": "04125055366516302240"
     },
     "user_tz": -60
    },
    "id": "NM8LwpsQGwsR"
   },
   "outputs": [],
   "source": [
    "# Converts the unicode file to ascii\n",
    "def unicode_to_ascii(s):\n",
    "  return ''.join(c for c in unicodedata.normalize('NFD', s)\n",
    "      if unicodedata.category(c) != 'Mn')\n",
    "\n",
    "\n",
    "def preprocess_sentence(w):\n",
    "  w = unicode_to_ascii(w.lower().strip())\n",
    "\n",
    "  # creating a space between a word and the punctuation following it\n",
    "  # eg: \"he is a boy.\" => \"he is a boy .\"\n",
    "  # Reference:- https://stackoverflow.com/questions/3645931/python-padding-punctuation-with-white-spaces-keeping-punctuation\n",
    "  w = re.sub(r\"([?.!,¿])\", r\" \\1 \", w)\n",
    "  w = re.sub(r'[\" \"]+', \" \", w)\n",
    "\n",
    "  # replacing everything with space except (a-z, A-Z, \".\", \"?\", \"!\", \",\")\n",
    "  w = re.sub(r\"[^a-zA-Z?.!,¿]+\", \" \", w)\n",
    "\n",
    "  w = w.strip()\n",
    "\n",
    "  # adding a start and an end token to the sentence\n",
    "  # so that the model know when to start and stop predicting.\n",
    "  w = '<start> ' + w + ' <end>'\n",
    "  return w"
   ]
  },
  {
   "source": [
    "# Test the code"
   ],
   "cell_type": "markdown",
   "metadata": {}
  },
  {
   "cell_type": "code",
   "execution_count": 5,
   "metadata": {
    "colab": {
     "base_uri": "https://localhost:8080/",
     "height": 51
    },
    "executionInfo": {
     "elapsed": 2119,
     "status": "ok",
     "timestamp": 1601929076824,
     "user": {
      "displayName": "Robert Aldis",
      "photoUrl": "https://lh3.googleusercontent.com/a-/AOh14GiLj5OOqyOsmfbKvjUXzdkDJ4aYrm6akcVj69n0GA=s64",
      "userId": "04125055366516302240"
     },
     "user_tz": -60
    },
    "id": "d9eP8ARTGwvn",
    "outputId": "31e17638-34d6-45da-92dc-b93c8f7d5cfe"
   },
   "outputs": [
    {
     "name": "stdout",
     "output_type": "stream",
     "text": [
      "<start> may i borrow this book ? <end>\n",
      "b'<start> \\xc2\\xbf puedo tomar prestado este libro ? <end>'\n"
     ]
    }
   ],
   "source": [
    "en_sentence = u\"May I borrow this book?\"\n",
    "sp_sentence = u\"¿Puedo tomar prestado este libro?\"\n",
    "print(preprocess_sentence(en_sentence))\n",
    "print(preprocess_sentence(sp_sentence).encode('utf-8'))"
   ]
  },
  {
   "source": [
    "# Create Dataset\n",
    "Format the input file into the right format for the model [ENGLISH, SPANISH]"
   ],
   "cell_type": "markdown",
   "metadata": {}
  },
  {
   "cell_type": "code",
   "execution_count": 6,
   "metadata": {
    "executionInfo": {
     "elapsed": 2115,
     "status": "ok",
     "timestamp": 1601929076824,
     "user": {
      "displayName": "Robert Aldis",
      "photoUrl": "https://lh3.googleusercontent.com/a-/AOh14GiLj5OOqyOsmfbKvjUXzdkDJ4aYrm6akcVj69n0GA=s64",
      "userId": "04125055366516302240"
     },
     "user_tz": -60
    },
    "id": "P7RJh1ETHSVb"
   },
   "outputs": [],
   "source": [
    "# 1. Remove the accents\n",
    "# 2. Clean the sentences\n",
    "# 3. Return word pairs in the format: [ENGLISH, SPANISH]\n",
    "def create_dataset(path, num_examples):\n",
    "  lines = io.open(path, encoding='UTF-8').read().strip().split('\\n')\n",
    "\n",
    "  word_pairs = [[preprocess_sentence(w) for w in l.split('\\t')]  for l in lines[:num_examples]]\n",
    "\n",
    "  return zip(*word_pairs)"
   ]
  },
  {
   "source": [
    "Testing"
   ],
   "cell_type": "markdown",
   "metadata": {}
  },
  {
   "cell_type": "code",
   "execution_count": 7,
   "metadata": {
    "colab": {
     "base_uri": "https://localhost:8080/",
     "height": 71
    },
    "executionInfo": {
     "elapsed": 6652,
     "status": "ok",
     "timestamp": 1601929081369,
     "user": {
      "displayName": "Robert Aldis",
      "photoUrl": "https://lh3.googleusercontent.com/a-/AOh14GiLj5OOqyOsmfbKvjUXzdkDJ4aYrm6akcVj69n0GA=s64",
      "userId": "04125055366516302240"
     },
     "user_tz": -60
    },
    "id": "9wGw291TIAv5",
    "outputId": "40cf2363-d263-4f1e-f0f8-ce1ad876a10b"
   },
   "outputs": [
    {
     "name": "stdout",
     "output_type": "stream",
     "text": [
      "<start> if you want to sound like a native speaker , you must be willing to practice saying the same sentence over and over in the same way that banjo players practice the same phrase over and over until they can play it correctly and at the desired tempo . <end>\n",
      "<start> si quieres sonar como un hablante nativo , debes estar dispuesto a practicar diciendo la misma frase una y otra vez de la misma manera en que un musico de banjo practica el mismo fraseo una y otra vez hasta que lo puedan tocar correctamente y en el tiempo esperado . <end>\n"
     ]
    }
   ],
   "source": [
    "en, sp = create_dataset(path_to_file, None)\n",
    "print(en[-1])\n",
    "print(sp[-1])"
   ]
  },
  {
   "source": [
    "# Tokenize\n",
    "Create a tensor tokenizer, a list of all the unique words used in the input and output."
   ],
   "cell_type": "markdown",
   "metadata": {}
  },
  {
   "cell_type": "code",
   "execution_count": 8,
   "metadata": {
    "executionInfo": {
     "elapsed": 6649,
     "status": "ok",
     "timestamp": 1601929081370,
     "user": {
      "displayName": "Robert Aldis",
      "photoUrl": "https://lh3.googleusercontent.com/a-/AOh14GiLj5OOqyOsmfbKvjUXzdkDJ4aYrm6akcVj69n0GA=s64",
      "userId": "04125055366516302240"
     },
     "user_tz": -60
    },
    "id": "UI5p9c-bIPKn"
   },
   "outputs": [],
   "source": [
    "def tokenize(lang):\n",
    "  lang_tokenizer = tf.keras.preprocessing.text.Tokenizer(\n",
    "      filters='')\n",
    "  lang_tokenizer.fit_on_texts(lang)\n",
    "\n",
    "  tensor = lang_tokenizer.texts_to_sequences(lang)\n",
    "\n",
    "  tensor = tf.keras.preprocessing.sequence.pad_sequences(tensor,\n",
    "                                                         padding='post')\n",
    "\n",
    "  return tensor, lang_tokenizer"
   ]
  },
  {
   "source": [
    "# loads the dataset final function that makes the dataset"
   ],
   "cell_type": "markdown",
   "metadata": {}
  },
  {
   "cell_type": "code",
   "execution_count": 9,
   "metadata": {
    "executionInfo": {
     "elapsed": 6646,
     "status": "ok",
     "timestamp": 1601929081371,
     "user": {
      "displayName": "Robert Aldis",
      "photoUrl": "https://lh3.googleusercontent.com/a-/AOh14GiLj5OOqyOsmfbKvjUXzdkDJ4aYrm6akcVj69n0GA=s64",
      "userId": "04125055366516302240"
     },
     "user_tz": -60
    },
    "id": "h-Z8ZkaIIUG0"
   },
   "outputs": [],
   "source": [
    "def load_dataset(path, num_examples=None):\n",
    "  # creating cleaned input, output pairs\n",
    "  targ_lang, inp_lang = create_dataset(path, num_examples)\n",
    "\n",
    "  input_tensor, inp_lang_tokenizer = tokenize(inp_lang)\n",
    "  target_tensor, targ_lang_tokenizer = tokenize(targ_lang)\n",
    "\n",
    "  return input_tensor, target_tensor, inp_lang_tokenizer, targ_lang_tokenizer"
   ]
  },
  {
   "source": [
    "Setting up the final variables for dataset"
   ],
   "cell_type": "markdown",
   "metadata": {}
  },
  {
   "cell_type": "code",
   "execution_count": 10,
   "metadata": {
    "executionInfo": {
     "elapsed": 8664,
     "status": "ok",
     "timestamp": 1601929083393,
     "user": {
      "displayName": "Robert Aldis",
      "photoUrl": "https://lh3.googleusercontent.com/a-/AOh14GiLj5OOqyOsmfbKvjUXzdkDJ4aYrm6akcVj69n0GA=s64",
      "userId": "04125055366516302240"
     },
     "user_tz": -60
    },
    "id": "tyNYpjF1Ieu7"
   },
   "outputs": [],
   "source": [
    "# Try experimenting with the size of that dataset\n",
    "num_examples = 30000\n",
    "input_tensor, target_tensor, inp_lang, targ_lang = load_dataset(path_to_file, num_examples)\n",
    "\n",
    "# Calculate max_length of the target tensors\n",
    "max_length_targ, max_length_inp = target_tensor.shape[1], input_tensor.shape[1]"
   ]
  },
  {
   "source": [
    "Split the data into training and validation data"
   ],
   "cell_type": "markdown",
   "metadata": {}
  },
  {
   "cell_type": "code",
   "execution_count": 11,
   "metadata": {
    "colab": {
     "base_uri": "https://localhost:8080/",
     "height": 34
    },
    "executionInfo": {
     "elapsed": 8641,
     "status": "ok",
     "timestamp": 1601929083396,
     "user": {
      "displayName": "Robert Aldis",
      "photoUrl": "https://lh3.googleusercontent.com/a-/AOh14GiLj5OOqyOsmfbKvjUXzdkDJ4aYrm6akcVj69n0GA=s64",
      "userId": "04125055366516302240"
     },
     "user_tz": -60
    },
    "id": "QOGssLLZIndU",
    "outputId": "3bc4beea-1c87-41b0-dd1b-d23e3e2f717c"
   },
   "outputs": [
    {
     "name": "stdout",
     "output_type": "stream",
     "text": [
      "24000 24000 6000 6000\n"
     ]
    }
   ],
   "source": [
    "# Creating training and validation sets using an 80-20 split\n",
    "input_tensor_train, input_tensor_val, target_tensor_train, target_tensor_val = train_test_split(input_tensor, target_tensor, test_size=0.2)\n",
    "\n",
    "# Show length\n",
    "print(len(input_tensor_train), len(target_tensor_train), len(input_tensor_val), len(target_tensor_val))"
   ]
  },
  {
   "cell_type": "code",
   "execution_count": 12,
   "metadata": {
    "executionInfo": {
     "elapsed": 8633,
     "status": "ok",
     "timestamp": 1601929083397,
     "user": {
      "displayName": "Robert Aldis",
      "photoUrl": "https://lh3.googleusercontent.com/a-/AOh14GiLj5OOqyOsmfbKvjUXzdkDJ4aYrm6akcVj69n0GA=s64",
      "userId": "04125055366516302240"
     },
     "user_tz": -60
    },
    "id": "O0n0XpAYIrsl"
   },
   "outputs": [],
   "source": [
    "def convert(lang, tensor):\n",
    "  for t in tensor:\n",
    "    if t!=0:\n",
    "      print (\"%d ----> %s\" % (t, lang.index_word[t]))"
   ]
  },
  {
   "cell_type": "code",
   "execution_count": 13,
   "metadata": {
    "colab": {
     "base_uri": "https://localhost:8080/",
     "height": 272
    },
    "executionInfo": {
     "elapsed": 8616,
     "status": "ok",
     "timestamp": 1601929083397,
     "user": {
      "displayName": "Robert Aldis",
      "photoUrl": "https://lh3.googleusercontent.com/a-/AOh14GiLj5OOqyOsmfbKvjUXzdkDJ4aYrm6akcVj69n0GA=s64",
      "userId": "04125055366516302240"
     },
     "user_tz": -60
    },
    "id": "gADB0MdWIwdW",
    "outputId": "dcad319d-6ff0-4ce6-baa0-97e675c9186e"
   },
   "outputs": [
    {
     "name": "stdout",
     "output_type": "stream",
     "text": [
      "Input Language; index to word mapping\n",
      "1 ----> <start>\n",
      "775 ----> lee\n",
      "9 ----> el\n",
      "2368 ----> contador\n",
      "3 ----> .\n",
      "2 ----> <end>\n",
      "\n",
      "Target Language; index to word mapping\n",
      "1 ----> <start>\n",
      "174 ----> read\n",
      "13 ----> the\n",
      "2070 ----> meter\n",
      "3 ----> .\n",
      "2 ----> <end>\n"
     ]
    }
   ],
   "source": [
    "print (\"Input Language; index to word mapping\")\n",
    "convert(inp_lang, input_tensor_train[0])\n",
    "print ()\n",
    "print (\"Target Language; index to word mapping\")\n",
    "convert(targ_lang, target_tensor_train[0])"
   ]
  },
  {
   "source": [
    "# Setting up the paeramiters for the model"
   ],
   "cell_type": "markdown",
   "metadata": {}
  },
  {
   "cell_type": "code",
   "execution_count": 14,
   "metadata": {
    "executionInfo": {
     "elapsed": 9283,
     "status": "ok",
     "timestamp": 1601929084070,
     "user": {
      "displayName": "Robert Aldis",
      "photoUrl": "https://lh3.googleusercontent.com/a-/AOh14GiLj5OOqyOsmfbKvjUXzdkDJ4aYrm6akcVj69n0GA=s64",
      "userId": "04125055366516302240"
     },
     "user_tz": -60
    },
    "id": "j5X9PW4_I0Zi"
   },
   "outputs": [],
   "source": [
    "BUFFER_SIZE = len(input_tensor_train)\n",
    "BATCH_SIZE = 64\n",
    "steps_per_epoch = len(input_tensor_train)//BATCH_SIZE\n",
    "embedding_dim = 256\n",
    "units = 1024\n",
    "vocab_inp_size = len(inp_lang.word_index)+1\n",
    "vocab_tar_size = len(targ_lang.word_index)+1\n",
    "\n",
    "dataset = tf.data.Dataset.from_tensor_slices((input_tensor_train, target_tensor_train)).shuffle(BUFFER_SIZE)\n",
    "dataset = dataset.batch(BATCH_SIZE, drop_remainder=True)"
   ]
  },
  {
   "cell_type": "code",
   "execution_count": 15,
   "metadata": {
    "colab": {
     "base_uri": "https://localhost:8080/",
     "height": 34
    },
    "executionInfo": {
     "elapsed": 9272,
     "status": "ok",
     "timestamp": 1601929084071,
     "user": {
      "displayName": "Robert Aldis",
      "photoUrl": "https://lh3.googleusercontent.com/a-/AOh14GiLj5OOqyOsmfbKvjUXzdkDJ4aYrm6akcVj69n0GA=s64",
      "userId": "04125055366516302240"
     },
     "user_tz": -60
    },
    "id": "0EWup-8WI5mo",
    "outputId": "e4d9e586-27f6-4070-ae3c-29fe64d06068"
   },
   "outputs": [
    {
     "data": {
      "text/plain": [
       "(TensorShape([64, 16]), TensorShape([64, 11]))"
      ]
     },
     "execution_count": 15,
     "metadata": {},
     "output_type": "execute_result"
    }
   ],
   "source": [
    "example_input_batch, example_target_batch = next(iter(dataset))\n",
    "example_input_batch.shape, example_target_batch.shape"
   ]
  },
  {
   "source": [
    "# Creating an encoder"
   ],
   "cell_type": "markdown",
   "metadata": {}
  },
  {
   "cell_type": "code",
   "execution_count": 16,
   "metadata": {
    "executionInfo": {
     "elapsed": 9268,
     "status": "ok",
     "timestamp": 1601929084072,
     "user": {
      "displayName": "Robert Aldis",
      "photoUrl": "https://lh3.googleusercontent.com/a-/AOh14GiLj5OOqyOsmfbKvjUXzdkDJ4aYrm6akcVj69n0GA=s64",
      "userId": "04125055366516302240"
     },
     "user_tz": -60
    },
    "id": "Vtm7NNnDI9T9"
   },
   "outputs": [],
   "source": [
    "class Encoder(tf.keras.Model):\n",
    "  def __init__(self, vocab_size, embedding_dim, enc_units, batch_sz):\n",
    "    super(Encoder, self).__init__()\n",
    "    self.batch_sz = batch_sz\n",
    "    self.enc_units = enc_units\n",
    "    self.embedding = tf.keras.layers.Embedding(vocab_size, embedding_dim)\n",
    "    self.gru = tf.keras.layers.GRU(self.enc_units,\n",
    "                                   return_sequences=True,\n",
    "                                   return_state=True,\n",
    "                                   recurrent_initializer='glorot_uniform')\n",
    "\n",
    "  def call(self, x, hidden):\n",
    "    x = self.embedding(x)\n",
    "    output, state = self.gru(x, initial_state = hidden)\n",
    "    return output, state\n",
    "\n",
    "  def initialize_hidden_state(self):\n",
    "    return tf.zeros((self.batch_sz, self.enc_units))"
   ]
  },
  {
   "source": [
    "# Testing the encoder out"
   ],
   "cell_type": "markdown",
   "metadata": {}
  },
  {
   "cell_type": "code",
   "execution_count": 17,
   "metadata": {
    "colab": {
     "base_uri": "https://localhost:8080/",
     "height": 51
    },
    "executionInfo": {
     "elapsed": 9257,
     "status": "ok",
     "timestamp": 1601929084073,
     "user": {
      "displayName": "Robert Aldis",
      "photoUrl": "https://lh3.googleusercontent.com/a-/AOh14GiLj5OOqyOsmfbKvjUXzdkDJ4aYrm6akcVj69n0GA=s64",
      "userId": "04125055366516302240"
     },
     "user_tz": -60
    },
    "id": "IzuhzfvQJF2y",
    "outputId": "6255be7a-8cee-4d81-f039-5bf988f57d50"
   },
   "outputs": [
    {
     "name": "stdout",
     "output_type": "stream",
     "text": [
      "Encoder output shape: (batch size, sequence length, units) (64, 16, 1024)\n",
      "Encoder Hidden state shape: (batch size, units) (64, 1024)\n"
     ]
    }
   ],
   "source": [
    "encoder = Encoder(vocab_inp_size, embedding_dim, units, BATCH_SIZE)\n",
    "\n",
    "# sample input\n",
    "sample_hidden = encoder.initialize_hidden_state()\n",
    "sample_output, sample_hidden = encoder(example_input_batch, sample_hidden)\n",
    "print ('Encoder output shape: (batch size, sequence length, units) {}'.format(sample_output.shape))\n",
    "print ('Encoder Hidden state shape: (batch size, units) {}'.format(sample_hidden.shape))"
   ]
  },
  {
   "source": [
    "# Attention"
   ],
   "cell_type": "markdown",
   "metadata": {}
  },
  {
   "cell_type": "code",
   "execution_count": 18,
   "metadata": {
    "executionInfo": {
     "elapsed": 9765,
     "status": "ok",
     "timestamp": 1601929084587,
     "user": {
      "displayName": "Robert Aldis",
      "photoUrl": "https://lh3.googleusercontent.com/a-/AOh14GiLj5OOqyOsmfbKvjUXzdkDJ4aYrm6akcVj69n0GA=s64",
      "userId": "04125055366516302240"
     },
     "user_tz": -60
    },
    "id": "KemyHh3_JH0u"
   },
   "outputs": [],
   "source": [
    "class BahdanauAttention(tf.keras.layers.Layer):\n",
    "  def __init__(self, units):\n",
    "    super(BahdanauAttention, self).__init__()\n",
    "    self.W1 = tf.keras.layers.Dense(units)\n",
    "    self.W2 = tf.keras.layers.Dense(units)\n",
    "    self.V = tf.keras.layers.Dense(1)\n",
    "\n",
    "  def call(self, query, values):\n",
    "    # query hidden state shape == (batch_size, hidden size)\n",
    "    # query_with_time_axis shape == (batch_size, 1, hidden size)\n",
    "    # values shape == (batch_size, max_len, hidden size)\n",
    "    # we are doing this to broadcast addition along the time axis to calculate the score\n",
    "    query_with_time_axis = tf.expand_dims(query, 1)\n",
    "\n",
    "    # score shape == (batch_size, max_length, 1)\n",
    "    # we get 1 at the last axis because we are applying score to self.V\n",
    "    # the shape of the tensor before applying self.V is (batch_size, max_length, units)\n",
    "    score = self.V(tf.nn.tanh(\n",
    "        self.W1(query_with_time_axis) + self.W2(values)))\n",
    "\n",
    "    # attention_weights shape == (batch_size, max_length, 1)\n",
    "    attention_weights = tf.nn.softmax(score, axis=1)\n",
    "\n",
    "    # context_vector shape after sum == (batch_size, hidden_size)\n",
    "    context_vector = attention_weights * values\n",
    "    context_vector = tf.reduce_sum(context_vector, axis=1)\n",
    "\n",
    "    return context_vector, attention_weights"
   ]
  },
  {
   "source": [
    "# Testing attention"
   ],
   "cell_type": "markdown",
   "metadata": {}
  },
  {
   "cell_type": "code",
   "execution_count": 19,
   "metadata": {
    "colab": {
     "base_uri": "https://localhost:8080/",
     "height": 51
    },
    "executionInfo": {
     "elapsed": 9754,
     "status": "ok",
     "timestamp": 1601929084588,
     "user": {
      "displayName": "Robert Aldis",
      "photoUrl": "https://lh3.googleusercontent.com/a-/AOh14GiLj5OOqyOsmfbKvjUXzdkDJ4aYrm6akcVj69n0GA=s64",
      "userId": "04125055366516302240"
     },
     "user_tz": -60
    },
    "id": "SQqzDd1IJQXR",
    "outputId": "6740f0c9-a9bc-4ca8-ac32-2eca31b12428"
   },
   "outputs": [
    {
     "name": "stdout",
     "output_type": "stream",
     "text": [
      "Attention result shape: (batch size, units) (64, 1024)\n",
      "Attention weights shape: (batch_size, sequence_length, 1) (64, 16, 1)\n"
     ]
    }
   ],
   "source": [
    "attention_layer = BahdanauAttention(10)\n",
    "attention_result, attention_weights = attention_layer(sample_hidden, sample_output)\n",
    "\n",
    "print(\"Attention result shape: (batch size, units) {}\".format(attention_result.shape))\n",
    "print(\"Attention weights shape: (batch_size, sequence_length, 1) {}\".format(attention_weights.shape))"
   ]
  },
  {
   "source": [
    "# Decoder"
   ],
   "cell_type": "markdown",
   "metadata": {}
  },
  {
   "cell_type": "code",
   "execution_count": 20,
   "metadata": {
    "executionInfo": {
     "elapsed": 9747,
     "status": "ok",
     "timestamp": 1601929084589,
     "user": {
      "displayName": "Robert Aldis",
      "photoUrl": "https://lh3.googleusercontent.com/a-/AOh14GiLj5OOqyOsmfbKvjUXzdkDJ4aYrm6akcVj69n0GA=s64",
      "userId": "04125055366516302240"
     },
     "user_tz": -60
    },
    "id": "xIs9_p_7Ja_N"
   },
   "outputs": [],
   "source": [
    "class Decoder(tf.keras.Model):\n",
    "  def __init__(self, vocab_size, embedding_dim, dec_units, batch_sz):\n",
    "    super(Decoder, self).__init__()\n",
    "    self.batch_sz = batch_sz\n",
    "    self.dec_units = dec_units\n",
    "    self.embedding = tf.keras.layers.Embedding(vocab_size, embedding_dim)\n",
    "    self.gru = tf.keras.layers.GRU(self.dec_units,\n",
    "                                   return_sequences=True,\n",
    "                                   return_state=True,\n",
    "                                   recurrent_initializer='glorot_uniform')\n",
    "    self.fc = tf.keras.layers.Dense(vocab_size)\n",
    "\n",
    "    # used for attention\n",
    "    self.attention = BahdanauAttention(self.dec_units)\n",
    "\n",
    "  def call(self, x, hidden, enc_output):\n",
    "    # enc_output shape == (batch_size, max_length, hidden_size)\n",
    "    context_vector, attention_weights = self.attention(hidden, enc_output)\n",
    "\n",
    "    # x shape after passing through embedding == (batch_size, 1, embedding_dim)\n",
    "    x = self.embedding(x)\n",
    "\n",
    "    # x shape after concatenation == (batch_size, 1, embedding_dim + hidden_size)\n",
    "    x = tf.concat([tf.expand_dims(context_vector, 1), x], axis=-1)\n",
    "\n",
    "    # passing the concatenated vector to the GRU\n",
    "    output, state = self.gru(x)\n",
    "\n",
    "    # output shape == (batch_size * 1, hidden_size)\n",
    "    output = tf.reshape(output, (-1, output.shape[2]))\n",
    "\n",
    "    # output shape == (batch_size, vocab)\n",
    "    x = self.fc(output)\n",
    "\n",
    "    return x, state, attention_weights"
   ]
  },
  {
   "source": [
    "# Testing decoder"
   ],
   "cell_type": "markdown",
   "metadata": {}
  },
  {
   "cell_type": "code",
   "execution_count": 21,
   "metadata": {
    "colab": {
     "base_uri": "https://localhost:8080/",
     "height": 34
    },
    "executionInfo": {
     "elapsed": 9734,
     "status": "ok",
     "timestamp": 1601929084590,
     "user": {
      "displayName": "Robert Aldis",
      "photoUrl": "https://lh3.googleusercontent.com/a-/AOh14GiLj5OOqyOsmfbKvjUXzdkDJ4aYrm6akcVj69n0GA=s64",
      "userId": "04125055366516302240"
     },
     "user_tz": -60
    },
    "id": "BFm7PUGBJemk",
    "outputId": "e250c713-1e2e-488b-c9aa-0ccea98e8cd6"
   },
   "outputs": [
    {
     "name": "stdout",
     "output_type": "stream",
     "text": [
      "Decoder output shape: (batch_size, vocab size) (64, 4935)\n"
     ]
    }
   ],
   "source": [
    "decoder = Decoder(vocab_tar_size, embedding_dim, units, BATCH_SIZE)\n",
    "\n",
    "sample_decoder_output, _, _ = decoder(tf.random.uniform((BATCH_SIZE, 1)),\n",
    "                                      sample_hidden, sample_output)\n",
    "\n",
    "print ('Decoder output shape: (batch_size, vocab size) {}'.format(sample_decoder_output.shape))"
   ]
  },
  {
   "source": [
    "# Loss function"
   ],
   "cell_type": "markdown",
   "metadata": {}
  },
  {
   "cell_type": "code",
   "execution_count": 22,
   "metadata": {
    "executionInfo": {
     "elapsed": 9729,
     "status": "ok",
     "timestamp": 1601929084590,
     "user": {
      "displayName": "Robert Aldis",
      "photoUrl": "https://lh3.googleusercontent.com/a-/AOh14GiLj5OOqyOsmfbKvjUXzdkDJ4aYrm6akcVj69n0GA=s64",
      "userId": "04125055366516302240"
     },
     "user_tz": -60
    },
    "id": "L1S1d0NZJkaW"
   },
   "outputs": [],
   "source": [
    "optimizer = tf.keras.optimizers.Adam()\n",
    "loss_object = tf.keras.losses.SparseCategoricalCrossentropy(\n",
    "    from_logits=True, reduction='none')\n",
    "\n",
    "def loss_function(real, pred):\n",
    "  mask = tf.math.logical_not(tf.math.equal(real, 0))\n",
    "  loss_ = loss_object(real, pred)\n",
    "\n",
    "  mask = tf.cast(mask, dtype=loss_.dtype)\n",
    "  loss_ *= mask\n",
    "\n",
    "  return tf.reduce_mean(loss_)"
   ]
  },
  {
   "source": [
    "Where to save the chekpoint data"
   ],
   "cell_type": "markdown",
   "metadata": {}
  },
  {
   "cell_type": "code",
   "execution_count": 23,
   "metadata": {
    "executionInfo": {
     "elapsed": 9725,
     "status": "ok",
     "timestamp": 1601929084591,
     "user": {
      "displayName": "Robert Aldis",
      "photoUrl": "https://lh3.googleusercontent.com/a-/AOh14GiLj5OOqyOsmfbKvjUXzdkDJ4aYrm6akcVj69n0GA=s64",
      "userId": "04125055366516302240"
     },
     "user_tz": -60
    },
    "id": "inSzADNVJpLn"
   },
   "outputs": [],
   "source": [
    "checkpoint_dir = './training_checkpoints'\n",
    "checkpoint_prefix = os.path.join(checkpoint_dir, \"ckpt\")\n",
    "checkpoint = tf.train.Checkpoint(optimizer=optimizer,\n",
    "                                 encoder=encoder,\n",
    "                                 decoder=decoder)"
   ]
  },
  {
   "source": [
    "# Traning function"
   ],
   "cell_type": "markdown",
   "metadata": {}
  },
  {
   "cell_type": "code",
   "execution_count": 24,
   "metadata": {
    "executionInfo": {
     "elapsed": 9718,
     "status": "ok",
     "timestamp": 1601929084593,
     "user": {
      "displayName": "Robert Aldis",
      "photoUrl": "https://lh3.googleusercontent.com/a-/AOh14GiLj5OOqyOsmfbKvjUXzdkDJ4aYrm6akcVj69n0GA=s64",
      "userId": "04125055366516302240"
     },
     "user_tz": -60
    },
    "id": "m9ayty_WJtx8"
   },
   "outputs": [],
   "source": [
    "@tf.function\n",
    "def train_step(inp, targ, enc_hidden):\n",
    "  loss = 0\n",
    "\n",
    "  with tf.GradientTape() as tape:\n",
    "    enc_output, enc_hidden = encoder(inp, enc_hidden)\n",
    "\n",
    "    dec_hidden = enc_hidden\n",
    "\n",
    "    dec_input = tf.expand_dims([targ_lang.word_index['<start>']] * BATCH_SIZE, 1)\n",
    "\n",
    "    # Teacher forcing - feeding the target as the next input\n",
    "    for t in range(1, targ.shape[1]):\n",
    "      # passing enc_output to the decoder\n",
    "      predictions, dec_hidden, _ = decoder(dec_input, dec_hidden, enc_output)\n",
    "\n",
    "      loss += loss_function(targ[:, t], predictions)\n",
    "\n",
    "      # using teacher forcing\n",
    "      dec_input = tf.expand_dims(targ[:, t], 1)\n",
    "\n",
    "  batch_loss = (loss / int(targ.shape[1]))\n",
    "\n",
    "  variables = encoder.trainable_variables + decoder.trainable_variables\n",
    "\n",
    "  gradients = tape.gradient(loss, variables)\n",
    "\n",
    "  optimizer.apply_gradients(zip(gradients, variables))\n",
    "\n",
    "  return batch_loss"
   ]
  },
  {
   "source": [
    "# The actual part of the code that trains the code"
   ],
   "cell_type": "markdown",
   "metadata": {}
  },
  {
   "cell_type": "code",
   "execution_count": 25,
   "metadata": {
    "colab": {
     "base_uri": "https://localhost:8080/",
     "height": 1000
    },
    "executionInfo": {
     "elapsed": 13605327,
     "status": "ok",
     "timestamp": 1601942680216,
     "user": {
      "displayName": "Robert Aldis",
      "photoUrl": "https://lh3.googleusercontent.com/a-/AOh14GiLj5OOqyOsmfbKvjUXzdkDJ4aYrm6akcVj69n0GA=s64",
      "userId": "04125055366516302240"
     },
     "user_tz": -60
    },
    "id": "TrbOyHGwJzSZ",
    "outputId": "f1c25ae9-b0b1-4b74-d4a2-10bf48773690"
   },
   "outputs": [
    {
     "name": "stdout",
     "output_type": "stream",
     "text": [
      "Epoch 1 Batch 0 Loss 4.6988\n",
      "Epoch 1 Batch 100 Loss 2.2833\n",
      "Epoch 1 Batch 200 Loss 1.8876\n",
      "Epoch 1 Batch 300 Loss 1.6255\n",
      "Epoch 1 Loss 2.0372\n",
      "Time taken for 1 epoch 64.53894233703613 sec\n",
      "\n",
      "Epoch 2 Batch 0 Loss 1.5462\n",
      "Epoch 2 Batch 100 Loss 1.4837\n",
      "Epoch 2 Batch 200 Loss 1.3873\n",
      "Epoch 2 Batch 300 Loss 1.2459\n",
      "Epoch 2 Loss 1.3954\n",
      "Time taken for 1 epoch 48.18737530708313 sec\n",
      "\n",
      "Epoch 3 Batch 0 Loss 1.0144\n",
      "Epoch 3 Batch 100 Loss 1.0697\n",
      "Epoch 3 Batch 200 Loss 0.9494\n",
      "Epoch 3 Batch 300 Loss 0.9723\n",
      "Epoch 3 Loss 0.9882\n",
      "Time taken for 1 epoch 50.17006325721741 sec\n",
      "\n",
      "Epoch 4 Batch 0 Loss 0.7473\n",
      "Epoch 4 Batch 100 Loss 0.6805\n",
      "Epoch 4 Batch 200 Loss 0.7066\n",
      "Epoch 4 Batch 300 Loss 0.7632\n",
      "Epoch 4 Loss 0.6735\n",
      "Time taken for 1 epoch 48.832436084747314 sec\n",
      "\n",
      "Epoch 5 Batch 0 Loss 0.3708\n",
      "Epoch 5 Batch 100 Loss 0.4008\n",
      "Epoch 5 Batch 200 Loss 0.5211\n",
      "Epoch 5 Batch 300 Loss 0.5393\n",
      "Epoch 5 Loss 0.4583\n",
      "Time taken for 1 epoch 51.320106983184814 sec\n",
      "\n",
      "Epoch 6 Batch 0 Loss 0.3082\n",
      "Epoch 6 Batch 100 Loss 0.3975\n",
      "Epoch 6 Batch 200 Loss 0.2808\n",
      "Epoch 6 Batch 300 Loss 0.3017\n",
      "Epoch 6 Loss 0.3155\n",
      "Time taken for 1 epoch 50.24391198158264 sec\n",
      "\n",
      "Epoch 7 Batch 0 Loss 0.2136\n",
      "Epoch 7 Batch 100 Loss 0.2367\n",
      "Epoch 7 Batch 200 Loss 0.2414\n",
      "Epoch 7 Batch 300 Loss 0.2646\n",
      "Epoch 7 Loss 0.2239\n",
      "Time taken for 1 epoch 47.93859791755676 sec\n",
      "\n",
      "Epoch 8 Batch 0 Loss 0.1762\n",
      "Epoch 8 Batch 100 Loss 0.1591\n",
      "Epoch 8 Batch 200 Loss 0.1917\n",
      "Epoch 8 Batch 300 Loss 0.1613\n",
      "Epoch 8 Loss 0.1647\n",
      "Time taken for 1 epoch 49.692176818847656 sec\n",
      "\n",
      "Epoch 9 Batch 0 Loss 0.1320\n",
      "Epoch 9 Batch 100 Loss 0.1320\n",
      "Epoch 9 Batch 200 Loss 0.1248\n",
      "Epoch 9 Batch 300 Loss 0.1272\n",
      "Epoch 9 Loss 0.1281\n",
      "Time taken for 1 epoch 51.330424547195435 sec\n",
      "\n",
      "Epoch 10 Batch 0 Loss 0.1367\n",
      "Epoch 10 Batch 100 Loss 0.1010\n",
      "Epoch 10 Batch 200 Loss 0.0708\n",
      "Epoch 10 Batch 300 Loss 0.1568\n",
      "Epoch 10 Loss 0.1036\n",
      "Time taken for 1 epoch 52.07596969604492 sec\n",
      "\n"
     ]
    }
   ],
   "source": [
    "EPOCHS = 10\n",
    "\n",
    "for epoch in range(EPOCHS):\n",
    "  start = time.time()\n",
    "\n",
    "  enc_hidden = encoder.initialize_hidden_state()\n",
    "  total_loss = 0\n",
    "\n",
    "  for (batch, (inp, targ)) in enumerate(dataset.take(steps_per_epoch)):\n",
    "    batch_loss = train_step(inp, targ, enc_hidden)\n",
    "    total_loss += batch_loss\n",
    "\n",
    "    if batch % 100 == 0:\n",
    "      print('Epoch {} Batch {} Loss {:.4f}'.format(epoch + 1,\n",
    "                                                   batch,\n",
    "                                                   batch_loss.numpy()))\n",
    "  # saving (checkpoint) the model every 2 epochs\n",
    "  if (epoch + 1) % 2 == 0:\n",
    "    checkpoint.save(file_prefix = checkpoint_prefix)\n",
    "\n",
    "  print('Epoch {} Loss {:.4f}'.format(epoch + 1,\n",
    "                                      total_loss / steps_per_epoch))\n",
    "  print('Time taken for 1 epoch {} sec\\n'.format(time.time() - start))"
   ]
  },
  {
   "cell_type": "code",
   "execution_count": 26,
   "metadata": {
    "executionInfo": {
     "elapsed": 13605327,
     "status": "ok",
     "timestamp": 1601942680222,
     "user": {
      "displayName": "Robert Aldis",
      "photoUrl": "https://lh3.googleusercontent.com/a-/AOh14GiLj5OOqyOsmfbKvjUXzdkDJ4aYrm6akcVj69n0GA=s64",
      "userId": "04125055366516302240"
     },
     "user_tz": -60
    },
    "id": "KbxFxV5tJ5XC"
   },
   "outputs": [],
   "source": [
    "def evaluate(sentence):\n",
    "  attention_plot = np.zeros((max_length_targ, max_length_inp))\n",
    "\n",
    "  sentence = preprocess_sentence(sentence)\n",
    "\n",
    "  inputs = [inp_lang.word_index[i] for i in sentence.split(' ')]\n",
    "  inputs = tf.keras.preprocessing.sequence.pad_sequences([inputs],\n",
    "                                                         maxlen=max_length_inp,\n",
    "                                                         padding='post')\n",
    "  inputs = tf.convert_to_tensor(inputs)\n",
    "\n",
    "  result = ''\n",
    "\n",
    "  hidden = [tf.zeros((1, units))]\n",
    "  enc_out, enc_hidden = encoder(inputs, hidden)\n",
    "\n",
    "  dec_hidden = enc_hidden\n",
    "  dec_input = tf.expand_dims([targ_lang.word_index['<start>']], 0)\n",
    "\n",
    "  for t in range(max_length_targ):\n",
    "    predictions, dec_hidden, attention_weights = decoder(dec_input,\n",
    "                                                         dec_hidden,\n",
    "                                                         enc_out)\n",
    "\n",
    "    # storing the attention weights to plot later on\n",
    "    attention_weights = tf.reshape(attention_weights, (-1, ))\n",
    "    attention_plot[t] = attention_weights.numpy()\n",
    "\n",
    "    predicted_id = tf.argmax(predictions[0]).numpy()\n",
    "\n",
    "    result += targ_lang.index_word[predicted_id] + ' '\n",
    "\n",
    "    if targ_lang.index_word[predicted_id] == '<end>':\n",
    "      return result, sentence, attention_plot\n",
    "\n",
    "    # the predicted ID is fed back into the model\n",
    "    dec_input = tf.expand_dims([predicted_id], 0)\n",
    "\n",
    "  return result, sentence, attention_plot"
   ]
  },
  {
   "cell_type": "code",
   "execution_count": 27,
   "metadata": {
    "executionInfo": {
     "elapsed": 13605322,
     "status": "ok",
     "timestamp": 1601942680223,
     "user": {
      "displayName": "Robert Aldis",
      "photoUrl": "https://lh3.googleusercontent.com/a-/AOh14GiLj5OOqyOsmfbKvjUXzdkDJ4aYrm6akcVj69n0GA=s64",
      "userId": "04125055366516302240"
     },
     "user_tz": -60
    },
    "id": "Br8obeZBKBdV"
   },
   "outputs": [],
   "source": [
    "# function for plotting the attention weights\n",
    "def plot_attention(attention, sentence, predicted_sentence):\n",
    "  fig = plt.figure(figsize=(10,10))\n",
    "  ax = fig.add_subplot(1, 1, 1)\n",
    "  ax.matshow(attention, cmap='viridis')\n",
    "\n",
    "  fontdict = {'fontsize': 14}\n",
    "\n",
    "  ax.set_xticklabels([''] + sentence, fontdict=fontdict, rotation=90)\n",
    "  ax.set_yticklabels([''] + predicted_sentence, fontdict=fontdict)\n",
    "\n",
    "  ax.xaxis.set_major_locator(ticker.MultipleLocator(1))\n",
    "  ax.yaxis.set_major_locator(ticker.MultipleLocator(1))\n",
    "\n",
    "  plt.show()"
   ]
  },
  {
   "cell_type": "code",
   "execution_count": 28,
   "metadata": {
    "executionInfo": {
     "elapsed": 13605317,
     "status": "ok",
     "timestamp": 1601942680224,
     "user": {
      "displayName": "Robert Aldis",
      "photoUrl": "https://lh3.googleusercontent.com/a-/AOh14GiLj5OOqyOsmfbKvjUXzdkDJ4aYrm6akcVj69n0GA=s64",
      "userId": "04125055366516302240"
     },
     "user_tz": -60
    },
    "id": "Qj6zeJ-tKHrA"
   },
   "outputs": [],
   "source": [
    "def translate(sentence):\n",
    "  result, sentence, attention_plot = evaluate(sentence)\n",
    "\n",
    "  print('Input: %s' % (sentence))\n",
    "  print('Predicted translation: {}'.format(result))\n",
    "\n",
    "  attention_plot = attention_plot[:len(result.split(' ')), :len(sentence.split(' '))]\n",
    "  plot_attention(attention_plot, sentence.split(' '), result.split(' '))"
   ]
  },
  {
   "cell_type": "code",
   "execution_count": 29,
   "metadata": {
    "colab": {
     "base_uri": "https://localhost:8080/",
     "height": 34
    },
    "executionInfo": {
     "elapsed": 13605564,
     "status": "ok",
     "timestamp": 1601942680476,
     "user": {
      "displayName": "Robert Aldis",
      "photoUrl": "https://lh3.googleusercontent.com/a-/AOh14GiLj5OOqyOsmfbKvjUXzdkDJ4aYrm6akcVj69n0GA=s64",
      "userId": "04125055366516302240"
     },
     "user_tz": -60
    },
    "id": "GGhBjQUGaKHO",
    "outputId": "a6bc43cd-c9cf-440b-d8fa-d0f84d856feb"
   },
   "outputs": [
    {
     "data": {
      "text/plain": [
       "<tensorflow.python.training.tracking.util.CheckpointLoadStatus at 0x7f39d1301850>"
      ]
     },
     "execution_count": 29,
     "metadata": {},
     "output_type": "execute_result"
    }
   ],
   "source": [
    "# restoring the latest checkpoint in checkpoint_dir\n",
    "checkpoint.restore(tf.train.latest_checkpoint(checkpoint_dir))"
   ]
  },
  {
   "cell_type": "code",
   "execution_count": 30,
   "metadata": {
    "colab": {
     "base_uri": "https://localhost:8080/",
     "height": 675
    },
    "executionInfo": {
     "elapsed": 13606138,
     "status": "ok",
     "timestamp": 1601942681056,
     "user": {
      "displayName": "Robert Aldis",
      "photoUrl": "https://lh3.googleusercontent.com/a-/AOh14GiLj5OOqyOsmfbKvjUXzdkDJ4aYrm6akcVj69n0GA=s64",
      "userId": "04125055366516302240"
     },
     "user_tz": -60
    },
    "id": "Jr_u-toEaMMg",
    "outputId": "dc8f7ac9-73ee-465f-c67e-1c8f2f48b211"
   },
   "outputs": [
    {
     "name": "stdout",
     "output_type": "stream",
     "text": [
      "Input: <start> hace mucho frio aqui . <end>\n",
      "Predicted translation: it s very cold here . <end> \n"
     ]
    },
    {
     "name": "stderr",
     "output_type": "stream",
     "text": [
      "<ipython-input-27-ef64c003f9d5>:9: UserWarning: FixedFormatter should only be used together with FixedLocator\n",
      "  ax.set_xticklabels([''] + sentence, fontdict=fontdict, rotation=90)\n",
      "<ipython-input-27-ef64c003f9d5>:10: UserWarning: FixedFormatter should only be used together with FixedLocator\n",
      "  ax.set_yticklabels([''] + predicted_sentence, fontdict=fontdict)\n"
     ]
    },
    {
     "data": {
      "image/png": "[encoded data removed]",
      "text/plain": [
       "<Figure size 720x720 with 1 Axes>"
      ]
     },
     "metadata": {
      "needs_background": "light"
     },
     "output_type": "display_data"
    }
   ],
   "source": [
    "translate(u'hace mucho frio aqui.')"
   ]
  },
  {
   "cell_type": "code",
   "execution_count": 31,
   "metadata": {
    "colab": {
     "base_uri": "https://localhost:8080/",
     "height": 675
    },
    "executionInfo": {
     "elapsed": 13606555,
     "status": "ok",
     "timestamp": 1601942681479,
     "user": {
      "displayName": "Robert Aldis",
      "photoUrl": "https://lh3.googleusercontent.com/a-/AOh14GiLj5OOqyOsmfbKvjUXzdkDJ4aYrm6akcVj69n0GA=s64",
      "userId": "04125055366516302240"
     },
     "user_tz": -60
    },
    "id": "qEtO0uLdaP1X",
    "outputId": "507cda1b-7f35-4a24-94f9-f15b5087d839"
   },
   "outputs": [
    {
     "name": "stdout",
     "output_type": "stream",
     "text": [
      "Input: <start> esta es mi vida . <end>\n",
      "Predicted translation: this is my life . <end> \n"
     ]
    },
    {
     "name": "stderr",
     "output_type": "stream",
     "text": [
      "<ipython-input-27-ef64c003f9d5>:9: UserWarning: FixedFormatter should only be used together with FixedLocator\n",
      "  ax.set_xticklabels([''] + sentence, fontdict=fontdict, rotation=90)\n",
      "<ipython-input-27-ef64c003f9d5>:10: UserWarning: FixedFormatter should only be used together with FixedLocator\n",
      "  ax.set_yticklabels([''] + predicted_sentence, fontdict=fontdict)\n"
     ]
    },
    {
     "data": {
      "image/png": "[encoded data removed]",
      "text/plain": [
       "<Figure size 720x720 with 1 Axes>"
      ]
     },
     "metadata": {
      "needs_background": "light"
     },
     "output_type": "display_data"
    }
   ],
   "source": [
    "translate(u'esta es mi vida.')"
   ]
  },
  {
   "cell_type": "code",
   "execution_count": 32,
   "metadata": {
    "colab": {
     "base_uri": "https://localhost:8080/",
     "height": 675
    },
    "executionInfo": {
     "elapsed": 793,
     "status": "ok",
     "timestamp": 1601944755891,
     "user": {
      "displayName": "Robert Aldis",
      "photoUrl": "https://lh3.googleusercontent.com/a-/AOh14GiLj5OOqyOsmfbKvjUXzdkDJ4aYrm6akcVj69n0GA=s64",
      "userId": "04125055366516302240"
     },
     "user_tz": -60
    },
    "id": "Jj3uQ_V3VZ5x",
    "outputId": "f4a61eed-a95c-430c-81dd-43b535afef2f"
   },
   "outputs": [
    {
     "name": "stdout",
     "output_type": "stream",
     "text": [
      "Input: <start> creo que ellos saben . <end>\n",
      "Predicted translation: i think they know . <end> \n"
     ]
    },
    {
     "name": "stderr",
     "output_type": "stream",
     "text": [
      "<ipython-input-27-ef64c003f9d5>:9: UserWarning: FixedFormatter should only be used together with FixedLocator\n",
      "  ax.set_xticklabels([''] + sentence, fontdict=fontdict, rotation=90)\n",
      "<ipython-input-27-ef64c003f9d5>:10: UserWarning: FixedFormatter should only be used together with FixedLocator\n",
      "  ax.set_yticklabels([''] + predicted_sentence, fontdict=fontdict)\n"
     ]
    },
    {
     "data": {
      "image/png": "[encoded data removed]",
      "text/plain": [
       "<Figure size 720x720 with 1 Axes>"
      ]
     },
     "metadata": {
      "needs_background": "light"
     },
     "output_type": "display_data"
    }
   ],
   "source": [
    "translate(u'Creo que ellos saben.')"
   ]
  }
 ],
 "metadata": {
  "colab": {
   "authorship_tag": "ABX9TyPga+5rHhv+pacFfu1XlbLR",
   "collapsed_sections": [],
   "name": "Untitled0.ipynb",
   "provenance": []
  },
  "kernelspec": {
   "display_name": "Python 3",
   "language": "python",
   "name": "python3"
  },
  "language_info": {
   "codemirror_mode": {
    "name": "ipython",
    "version": 3
   },
   "file_extension": ".py",
   "mimetype": "text/x-python",
   "name": "python",
   "nbconvert_exporter": "python",
   "pygments_lexer": "ipython3",
   "version": "3.8.5"
  }
 },
 "nbformat": 4,
 "nbformat_minor": 1
}